{
 "cells": [
  {
   "cell_type": "code",
   "execution_count": 7,
   "id": "a6ed4703-5448-409c-b613-8f92938bb754",
   "metadata": {},
   "outputs": [
    {
     "name": "stdin",
     "output_type": "stream",
     "text": [
      "a = : 5\n"
     ]
    },
    {
     "name": "stdout",
     "output_type": "stream",
     "text": [
      "TRUE.\n"
     ]
    }
   ],
   "source": [
    "#第一题\n",
    "a = int(input(\"a = :\"))\n",
    "flag = 0\n",
    "for i in range(2,a)://左闭右开\n",
    "    if(a%i==0):\n",
    "        flag = 1 \n",
    "        break\n",
    "if(flag==1):\n",
    "    print(\"FALSE.\")\n",
    "else:\n",
    "    print(\"TRUE.\")"
   ]
  },
  {
   "cell_type": "code",
   "execution_count": 24,
   "id": "5c73f56e-5526-4f91-87a1-09c97ed9f8a0",
   "metadata": {},
   "outputs": [
    {
     "name": "stdin",
     "output_type": "stream",
     "text": [
      "Please input a list:  12 45 89 456 789\n"
     ]
    },
    {
     "name": "stdout",
     "output_type": "stream",
     "text": [
      "[12, 45, 89, 456, 789]\n"
     ]
    }
   ],
   "source": [
    "#第二题：插入排序\n",
    "ls = list(map(int, input(\"Please input a list: \").split()))\n",
    "n = len(ls)\n",
    "for i in range (1,n):\n",
    "    key = ls[i]\n",
    "    j = i-1\n",
    "    while(j>=0 and key < ls[j]):\n",
    "        ls[j+1] = ls[j]\n",
    "        j-=1\n",
    "    ls[j+1] = key\n",
    "print(ls)            "
   ]
  },
  {
   "cell_type": "code",
   "execution_count": 23,
   "id": "be6ab539-0035-45e5-aaed-2cd854d18186",
   "metadata": {},
   "outputs": [
    {
     "name": "stdin",
     "output_type": "stream",
     "text": [
      "Please input a list:  456 789 123 687 5198\n"
     ]
    },
    {
     "name": "stdout",
     "output_type": "stream",
     "text": [
      "[123, 456, 687, 789, 5198]\n"
     ]
    }
   ],
   "source": [
    "#第三题：选择排序\n",
    "ls = list(map(int, input(\"Please input a list: \").split()))\n",
    "n = len(ls)\n",
    "for i in range(n):\n",
    "    index = i\n",
    "    for j in range(i+1, n):\n",
    "        if ls[j] < ls[index]:\n",
    "            index = j\n",
    "    ls[i], ls[index] = ls[index], ls[i]\n",
    "print(ls)"
   ]
  },
  {
   "cell_type": "code",
   "execution_count": 20,
   "id": "66507d5d-29a0-41c8-b32e-5866eecb2f17",
   "metadata": {},
   "outputs": [
    {
     "name": "stdin",
     "output_type": "stream",
     "text": [
      "Please input a list : 45 78 98 45 64 51\n"
     ]
    },
    {
     "name": "stdout",
     "output_type": "stream",
     "text": [
      "[45, 45, 64, 51, 78, 98]\n"
     ]
    }
   ],
   "source": [
    "#第四题：快速排序\n",
    "ls = list(map(int,input(\"Please input a list :\").split()))\n",
    "n = len(ls)\n",
    "min = 0 \n",
    "while(min<=n):\n",
    "    for j in range(min,n):\n",
    "        if(ls[j]<ls[min]):\n",
    "            temp = ls[j]\n",
    "            ls[j] = ls[min]\n",
    "            ls[min] = temp\n",
    "    min+=1\n",
    "print(ls)    "
   ]
  },
  {
   "cell_type": "code",
   "execution_count": 27,
   "id": "5148b225-6e9e-4130-9414-dfe9f2e60238",
   "metadata": {},
   "outputs": [
    {
     "name": "stdout",
     "output_type": "stream",
     "text": [
      "\n",
      "Array size: 100\n",
      "Selection Sort took 0.001024 seconds\n",
      "Merge Sort took 0.001005 seconds\n",
      "Python Built-in Sort took 0.000000 seconds\n",
      "\n",
      "Array size: 1000\n",
      "Selection Sort took 0.047708 seconds\n",
      "Merge Sort took 0.003003 seconds\n",
      "Python Built-in Sort took 0.000000 seconds\n",
      "\n",
      "Array size: 10000\n",
      "Selection Sort took 2.321138 seconds\n",
      "Merge Sort took 0.033621 seconds\n",
      "Python Built-in Sort took 0.003038 seconds\n"
     ]
    }
   ],
   "source": [
    "#第五题：随机算法时间复杂度分析\n",
    "import random\n",
    "import time\n",
    "def generate_random_list(size):\n",
    "    return [random.randint(0, 10000) for _ in range(size)]\n",
    "def selection_sort(arr):\n",
    "    n = len(arr)\n",
    "    for i in range(n):\n",
    "        min_index = i\n",
    "        for j in range(i+1, n):\n",
    "            if arr[j] < arr[min_index]:\n",
    "                min_index = j\n",
    "        arr[i], arr[min_index] = arr[min_index], arr[i]\n",
    "    return arr\n",
    "def merge_sort(arr):\n",
    "    if len(arr) <= 1:\n",
    "        return arr\n",
    "    mid = len(arr) // 2\n",
    "    left = merge_sort(arr[:mid])\n",
    "    right = merge_sort(arr[mid:])\n",
    "    return merge(left, right)\n",
    "def merge(left, right):\n",
    "    result = []\n",
    "    i = j = 0\n",
    "    while i < len(left) and j < len(right):\n",
    "        if left[i] < right[j]:\n",
    "            result.append(left[i])\n",
    "            i += 1\n",
    "        else:\n",
    "            result.append(right[j])\n",
    "            j += 1\n",
    "    result.extend(left[i:])\n",
    "    result.extend(right[j:])\n",
    "    return result\n",
    "\n",
    "def test_sorting_algorithm(sorting_function, arr):\n",
    "    start_time = time.time()\n",
    "    sorting_function(arr.copy())\n",
    "    end_time = time.time()\n",
    "    return end_time - start_time\n",
    "\n",
    "if __name__ == \"__main__\":\n",
    "    sizes = [100, 1000, 10000]\n",
    "    random_lists = [generate_random_list(size) for size in sizes]\n",
    "    sorting_algorithms = {\n",
    "        'Selection Sort': selection_sort,\n",
    "        'Merge Sort': merge_sort,\n",
    "        'Python Built-in Sort': sorted\n",
    "    }\n",
    "    for size, arr in zip(sizes, random_lists):\n",
    "        print(f\"\\nArray size: {size}\")\n",
    "        for algo_name, algo_function in sorting_algorithms.items():\n",
    "            time_taken = test_sorting_algorithm(algo_function, arr)\n",
    "            print(f\"{algo_name} took {time_taken:.6f} seconds\")"
   ]
  },
  {
   "cell_type": "code",
   "execution_count": 25,
   "id": "ffd99935-d10c-425f-933e-e5053093bf4a",
   "metadata": {},
   "outputs": [
    {
     "name": "stdout",
     "output_type": "stream",
     "text": [
      "2024-10-15 15:23:18.265920\n"
     ]
    }
   ],
   "source": [
    "#第六题：获取系统时间\n",
    "from datetime import datetime\n",
    "time = datetime.now()\n",
    "print(time)"
   ]
  },
  {
   "cell_type": "code",
   "execution_count": 39,
   "id": "62139bd4-fe01-4b07-8d13-245e3c09e92e",
   "metadata": {},
   "outputs": [
    {
     "name": "stdout",
     "output_type": "stream",
     "text": [
      "1\n",
      "Average scores (rounded to 2 decimal places):\n",
      "chinese: 82.60\n",
      "math: 81.00\n",
      "english: 81.80\n"
     ]
    }
   ],
   "source": [
    "#第七题：\n",
    "import csv\n",
    "file_path = r\"C:\\Users\\86189\\Desktop\\data_stu.txt\"  # 替换为实际路径\n",
    "subjects = []  \n",
    "scores = {} \n",
    "count = 0 \n",
    "print(\"1\")\n",
    "try:\n",
    "    with open(file_path, 'r', encoding='utf-8') as file:\n",
    "        reader = csv.reader(file,delimiter = '\\t')\n",
    "        header = next(reader)\n",
    "        subjects = header[1:]#跳过学号行\n",
    "        \n",
    "        for subject in subjects:\n",
    "            scores[subject] = 0\n",
    "        for row in reader:\n",
    "            count += 1\n",
    "            for i, subject in enumerate(subjects):\n",
    "                scores[subject] += int(row[i+1])\n",
    "\n",
    "    print(\"Average scores (rounded to 2 decimal places):\")\n",
    "    for subject in subjects:\n",
    "        average = scores[subject] / count\n",
    "        print(f\"{subject}: {average:.2f}\")\n",
    "\n",
    "except FileNotFoundError:\n",
    "    print(\"File not found. Please check the file path.\")"
   ]
  },
  {
   "cell_type": "code",
   "execution_count": null,
   "id": "26102f3d-eb97-4d8b-ba63-9e98ea56fb99",
   "metadata": {},
   "outputs": [],
   "source": [
    "#第八题\n",
    "import csv\n",
    "\n",
    "# 原始文件路径\n",
    "file_path = r\"C:\\Users\\86189\\Desktop\\data_stu.txt\"  # 替换为实际路径\n",
    "# 输出文件路径\n",
    "output_file = r\"C:\\Users\\86189\\Desktop\\my.txt\"  # 输出文件保存到桌面\n",
    "\n",
    "subjects = []  \n",
    "scores = {} \n",
    "count = 0 \n",
    "\n",
    "try:\n",
    "    with open(file_path, 'r', encoding='utf-8') as file:\n",
    "        reader = csv.reader(file, delimiter='\\t')  # 指定分隔符为制表符\n",
    "        header = next(reader)  # 读取表头\n",
    "        subjects = header[1:]  # 跳过学号列，保留科目\n",
    "        \n",
    "        # 初始化每个科目的成绩总和为 0\n",
    "        for subject in subjects:\n",
    "            scores[subject] = 0\n",
    "        \n",
    "        # 遍历每行数据，累加各科成绩\n",
    "        for row in reader:\n",
    "            count += 1\n",
    "            for i, subject in enumerate(subjects):\n",
    "                scores[subject] += int(row[i+1])\n",
    "\n",
    "    # 将结果写入 my.txt 文件\n",
    "    with open(output_file, 'w', encoding='utf-8') as out_file:\n",
    "        out_file.write(\"Average scores (rounded to 2 decimal places):\\n\")\n",
    "        for subject in subjects:\n",
    "            average = scores[subject] / count\n",
    "            out_file.write(f\"{subject}: {average:.2f}\\n\")\n",
    "\n",
    "    print(f\"Results have been written to {output_file}\")\n",
    "\n",
    "except FileNotFoundError:\n",
    "    print(\"File not found. Please check the file path.\")\n"
   ]
  }
 ],
 "metadata": {
  "kernelspec": {
   "display_name": "Python 3 (ipykernel)",
   "language": "python",
   "name": "python3"
  },
  "language_info": {
   "codemirror_mode": {
    "name": "ipython",
    "version": 3
   },
   "file_extension": ".py",
   "mimetype": "text/x-python",
   "name": "python",
   "nbconvert_exporter": "python",
   "pygments_lexer": "ipython3",
   "version": "3.12.4"
  }
 },
 "nbformat": 4,
 "nbformat_minor": 5
}
