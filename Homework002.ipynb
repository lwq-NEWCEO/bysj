{
 "cells": [
  {
   "cell_type": "code",
   "execution_count": 5,
   "id": "0aa2d9d1-9b65-40f4-bccb-da212f096dc2",
   "metadata": {},
   "outputs": [
    {
     "name": "stdin",
     "output_type": "stream",
     "text": [
      "a = ： 45\n",
      "b = ： 55\n"
     ]
    },
    {
     "name": "stdout",
     "output_type": "stream",
     "text": [
      "5\n"
     ]
    }
   ],
   "source": [
    "#第一题\n",
    "a = int(input(\"a = ：\"))\n",
    "b = int(input(\"b = ：\"))\n",
    "m = max(a, b)\n",
    "n = min(a, b)\n",
    "r = m % n\n",
    "while r != 0:\n",
    "    m = n\n",
    "    n = r\n",
    "    r = m % n\n",
    "print(n)"
   ]
  },
  {
   "cell_type": "code",
   "execution_count": 9,
   "id": "9fd7f2af-c6bc-4435-b378-f7ccb9d6eccd",
   "metadata": {},
   "outputs": [
    {
     "name": "stdin",
     "output_type": "stream",
     "text": [
      "x = : 5\n"
     ]
    },
    {
     "name": "stdout",
     "output_type": "stream",
     "text": [
      "不及格\n"
     ]
    }
   ],
   "source": [
    "#第二题\n",
    "x = int(input(\"x = :\"))\n",
    "if x<60: print('不及格')\n",
    "if 60<=x<=74: print(\"及格\")\n",
    "if 75<=x<=89: print(\"良好\")\n",
    "if 90<=x<=100: print('优秀')"
   ]
  },
  {
   "cell_type": "code",
   "execution_count": 14,
   "id": "e20c48ea-fd5b-4b30-b81d-fa9b1c843974",
   "metadata": {},
   "outputs": [
    {
     "name": "stdin",
     "output_type": "stream",
     "text": [
      "a = : 2.25\n"
     ]
    },
    {
     "name": "stdout",
     "output_type": "stream",
     "text": [
      "10.01\n"
     ]
    }
   ],
   "source": [
    "#第三题\n",
    "a = float(input(\"a = :\")) \n",
    "\n",
    "#处理整数部分\n",
    "int_part = int(a)\n",
    "int_binary = \"\"\n",
    "while int_part > 0:\n",
    "    int_binary = str(int_part % 2) + int_binary\n",
    "    int_part //= 2\n",
    "\n",
    "if int_binary == \"\":\n",
    "    int_binary = \"0\"  #若整数部分为0，直接输出0\n",
    "\n",
    "#处理小数部分\n",
    "frac_part = a - int(a)\n",
    "frac_binary = \"\"\n",
    "precision = 10  #设置一个精度\n",
    "\n",
    "while frac_part > 0 and len(frac_binary) < precision:\n",
    "    frac_part *= 2\n",
    "    if frac_part >= 1:\n",
    "        frac_binary += \"1\"\n",
    "        frac_part -= 1\n",
    "    #else:frac_binary += \"0\"\n",
    "\n",
    "if frac_binary == \"\":\n",
    "    print(f\"{int_binary}\")  #没有整数\n",
    "else:\n",
    "    print(f\"{int_binary}.{frac_binary}\")  #输出整数和小数部分\n"
   ]
  },
  {
   "cell_type": "code",
   "execution_count": 1,
   "id": "015342ce-fa3c-473f-ba42-fa7a2c2e99f7",
   "metadata": {},
   "outputs": [
    {
     "name": "stdout",
     "output_type": "stream",
     "text": [
      "13.978270517371069\n"
     ]
    }
   ],
   "source": [
    "#第四题\n",
    "import random\n",
    "rand_1 = random.uniform(10.0, 20.0)\n",
    "print(rand_1)"
   ]
  },
  {
   "cell_type": "code",
   "execution_count": 2,
   "id": "622d5824-1be2-44d4-8c11-f2d75cc7231c",
   "metadata": {},
   "outputs": [
    {
     "name": "stdin",
     "output_type": "stream",
     "text": [
      "a =  123454321\n"
     ]
    },
    {
     "name": "stdout",
     "output_type": "stream",
     "text": [
      "1\n"
     ]
    }
   ],
   "source": [
    "#第五题\n",
    "a = int(input(\"a = \"))\n",
    "c = []\n",
    "flag = 1\n",
    "def num_len(b):\n",
    "    number = 0\n",
    "    while b>0:\n",
    "        c.append(b%10)\n",
    "        b //=10\n",
    "        number = number + 1\n",
    "    return number\n",
    "num = int(num_len(a))\n",
    "for i in range(0,num//2):\n",
    "    if(c[i]!=c[num-1-i]):\n",
    "        flag = 0\n",
    "if(flag == 1):\n",
    "    print(1)\n",
    "else:\n",
    "    print(0)"
   ]
  },
  {
   "cell_type": "code",
   "execution_count": 3,
   "id": "d498a0c9-3a4c-469e-a09c-791b4f7b1106",
   "metadata": {},
   "outputs": [
    {
     "name": "stdin",
     "output_type": "stream",
     "text": [
      "n =: 5\n"
     ]
    },
    {
     "name": "stdout",
     "output_type": "stream",
     "text": [
      "[1, 1, 2, 3, 5]\n"
     ]
    }
   ],
   "source": [
    "#第六题\n",
    "n = int(input(\"n =:\"))\n",
    "list2 = [0 for _ in range(n)]\n",
    "list2[0] = 1\n",
    "list2[1] = 1\n",
    "for i in range(2,n):\n",
    "    list2[i] = list2[i-1]+list2[i-2]\n",
    "print(list2)"
   ]
  },
  {
   "cell_type": "code",
   "execution_count": 7,
   "id": "8ca252e5-2baa-45db-aac0-380f55681098",
   "metadata": {},
   "outputs": [
    {
     "name": "stdin",
     "output_type": "stream",
     "text": [
      "请输入数组用，分隔： 1,9,3,8,5\n"
     ]
    },
    {
     "name": "stdout",
     "output_type": "stream",
     "text": [
      "8\n"
     ]
    }
   ],
   "source": [
    "#第七题\n",
    "b = []\n",
    "a = input(\"请输入数组用，分隔：\")\n",
    "a = a.split(',')\n",
    "n = len(a)\n",
    "b = sorted(a)\n",
    "print(b[n-2])"
   ]
  },
  {
   "cell_type": "code",
   "execution_count": 8,
   "id": "1cad494e-ae76-48dd-bc5d-f4492dff603f",
   "metadata": {},
   "outputs": [
    {
     "name": "stdout",
     "output_type": "stream",
     "text": [
      "False\n",
      "False\n",
      "True\n",
      "True\n",
      "True\n"
     ]
    }
   ],
   "source": [
    "#第八题\n",
    "import re\n",
    "def validate_id_card(id_card):\n",
    "    # 定义身份证号的正则表达式模式\n",
    "    pattern = r\"^[1-9]\\d{5}(19|20)\\d{2}(0[1-9]|1[0-2])(0[1-9]|[1-2]\\d|3[0-1])\\d{3}(\\d|X|x)$\"\n",
    "\n",
    "    # 使用正则表达式进行匹配\n",
    "    if re.match(pattern, id_card):\n",
    "        return True\n",
    "    else:\n",
    "        return False\n",
    "print(validate_id_card(\"1234901245345\"))\n",
    "print(validate_id_card(\"110105194565521kkx\"))\n",
    "print(validate_id_card(\"110105199003072234\"))\n",
    "print(validate_id_card(\"11010519900307321X\"))\n",
    "print(validate_id_card(\"11010519900307321x\"))\n",
    "\n"
   ]
  },
  {
   "cell_type": "code",
   "execution_count": null,
   "id": "b264ff9e-789a-426f-ad4c-58d4303f754b",
   "metadata": {},
   "outputs": [],
   "source": []
  }
 ],
 "metadata": {
  "kernelspec": {
   "display_name": "Python 3 (ipykernel)",
   "language": "python",
   "name": "python3"
  },
  "language_info": {
   "codemirror_mode": {
    "name": "ipython",
    "version": 3
   },
   "file_extension": ".py",
   "mimetype": "text/x-python",
   "name": "python",
   "nbconvert_exporter": "python",
   "pygments_lexer": "ipython3",
   "version": "3.12.4"
  }
 },
 "nbformat": 4,
 "nbformat_minor": 5
}
