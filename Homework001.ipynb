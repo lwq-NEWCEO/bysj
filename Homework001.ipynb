{
 "cells": [
  {
   "cell_type": "code",
   "execution_count": 11,
   "id": "c6410e1e-64de-41e0-8e48-96c7131890fe",
   "metadata": {},
   "outputs": [
    {
     "name": "stdout",
     "output_type": "stream",
     "text": [
      "★★★★★★★★★\n",
      "数据科学与工程导论\n",
      "★★★★★★★★★\n"
     ]
    }
   ],
   "source": [
    "#第一题\n",
    "print(chr(0x2605)*9)\n",
    "print(\"数据科学与工程导论\")\n",
    "print(chr(0x2605)*9)"
   ]
  },
  {
   "cell_type": "code",
   "execution_count": 1,
   "id": "bf515b82-7395-4fc6-990e-68b33eb5cf70",
   "metadata": {},
   "outputs": [
    {
     "name": "stdin",
     "output_type": "stream",
     "text": [
      "x =:  5\n",
      "y =:  6\n",
      "z =:  2\n"
     ]
    },
    {
     "name": "stdout",
     "output_type": "stream",
     "text": [
      "2 5 6\n"
     ]
    }
   ],
   "source": [
    "#第二题\n",
    "x = input(\"x =: \")\n",
    "y = input(\"y =: \")\n",
    "z = input(\"z =: \")\n",
    "if(x>y):\n",
    "    if(z>x):\n",
    "        print(y,x,z)\n",
    "    if(z<y):\n",
    "        print(z,y,x)\n",
    "    if(z<x and z>y):\n",
    "        print(y,z,x)\n",
    "if(x<y):\n",
    "    if(z<y and z>x):\n",
    "        print(x,z,y)\n",
    "    if(z>y):\n",
    "        print(x,y,z)\n",
    "    if(z<x):\n",
    "        print(z,x,y)"
   ]
  },
  {
   "cell_type": "code",
   "execution_count": 2,
   "id": "310b3ac8-29a0-4665-b8e2-87b05ca68a7a",
   "metadata": {},
   "outputs": [
    {
     "name": "stdin",
     "output_type": "stream",
     "text": [
      "w =:  8\n",
      "x =:  9\n",
      "y =:  8\n",
      "z =:  5\n"
     ]
    },
    {
     "name": "stdout",
     "output_type": "stream",
     "text": [
      "['5', '8', '8', '9']\n"
     ]
    }
   ],
   "source": [
    "#第三题\n",
    "w = input(\"w =: \")\n",
    "x = input(\"x =: \")\n",
    "y = input(\"y =: \")\n",
    "z = input(\"z =: \")\n",
    "list1= [w,x,y,z]\n",
    "print(sorted(list1))"
   ]
  },
  {
   "cell_type": "code",
   "execution_count": 3,
   "id": "739bd0f1-c9bc-49d8-9801-da9ce49242a5",
   "metadata": {},
   "outputs": [
    {
     "name": "stdout",
     "output_type": "stream",
     "text": [
      "1\n",
      "3\n",
      "5\n",
      "7\n",
      "9\n",
      "11\n",
      "13\n",
      "15\n",
      "17\n",
      "19\n",
      "21\n",
      "23\n",
      "25\n",
      "27\n",
      "29\n",
      "31\n",
      "33\n",
      "35\n",
      "37\n",
      "39\n",
      "41\n",
      "43\n",
      "45\n",
      "47\n",
      "49\n",
      "51\n",
      "53\n",
      "55\n",
      "57\n",
      "59\n",
      "61\n",
      "63\n",
      "65\n",
      "67\n",
      "69\n",
      "71\n",
      "73\n",
      "75\n",
      "77\n",
      "79\n",
      "81\n",
      "83\n",
      "85\n",
      "87\n",
      "89\n",
      "91\n",
      "93\n",
      "95\n",
      "97\n",
      "99\n"
     ]
    }
   ],
   "source": [
    "#第四题\n",
    "for i in range(1,101):\n",
    "    if(i%2!=0):\n",
    "        print(i)\n",
    "        "
   ]
  },
  {
   "cell_type": "code",
   "execution_count": 4,
   "id": "91ea1340-225d-4348-b59f-868527cc19a8",
   "metadata": {},
   "outputs": [
    {
     "name": "stdout",
     "output_type": "stream",
     "text": [
      "5050\n"
     ]
    }
   ],
   "source": [
    "#第五题\n",
    "sum = 0\n",
    "for i in range(1,101):\n",
    "    sum+=i\n",
    "print(sum)"
   ]
  },
  {
   "cell_type": "code",
   "execution_count": 6,
   "id": "421f1f39-6583-4484-b17e-a2c12015aa7e",
   "metadata": {},
   "outputs": [
    {
     "name": "stdin",
     "output_type": "stream",
     "text": [
      "请输入列表元素个数： 5\n",
      "请输入第1各元素： 5\n",
      "请输入第2各元素： 6\n",
      "请输入第3各元素： 3\n",
      "请输入第4各元素： 8\n",
      "请输入第5各元素： 2\n"
     ]
    },
    {
     "name": "stdout",
     "output_type": "stream",
     "text": [
      "[2, 8, 3, 6, 5]\n"
     ]
    }
   ],
   "source": [
    "#第六题\n",
    "input_list = []\n",
    "n = int(input(\"请输入列表元素个数：\"))\n",
    "for i in range(n):\n",
    "    element = int(input(\"请输入第{}各元素：\".format(i+1)))\n",
    "    input_list.append(element)\n",
    "print(list(reversed(input_list)))"
   ]
  },
  {
   "cell_type": "code",
   "execution_count": 7,
   "id": "db2c4325-e591-4fa2-85e5-0045972fd351",
   "metadata": {},
   "outputs": [
    {
     "name": "stdin",
     "output_type": "stream",
     "text": [
      "请输入字符串：  huidopso sbfiu ioasihf\n"
     ]
    },
    {
     "name": "stdout",
     "output_type": "stream",
     "text": [
      "False.\n"
     ]
    }
   ],
   "source": [
    "#第七题\n",
    "S = input(\"请输入字符串：\")\n",
    "j = 0\n",
    "for i in range(len(S) - 1):  # 遍历每个字符，最多到倒数第二个字符\n",
    "    if S[i] == S[i + 1]:     # 比较相邻字符\n",
    "        j = 1\n",
    "        break\n",
    "\n",
    "if j == 1:\n",
    "    print(\"True.\")\n",
    "else:\n",
    "    print('False.')"
   ]
  },
  {
   "cell_type": "code",
   "execution_count": 8,
   "id": "4cf5bc52-8ec2-462d-b9ce-c0708403ad3e",
   "metadata": {},
   "outputs": [
    {
     "name": "stdin",
     "output_type": "stream",
     "text": [
      "请输入字符串窜： sdhiofs dhsifoh hsidfoe\n"
     ]
    },
    {
     "name": "stdout",
     "output_type": "stream",
     "text": [
      "sdhiofsdhsifohhsidfoe\n"
     ]
    }
   ],
   "source": [
    "#第八题\n",
    "S = input(\"请输入字符串窜：\")\n",
    "def remove_spaces(S):\n",
    "    return S.replace(\" \", \"\")\n",
    "result = remove_spaces(S)\n",
    "print(result)"
   ]
  },
  {
   "cell_type": "code",
   "execution_count": 9,
   "id": "fc226bb6-873c-4652-aed2-f619326cf8af",
   "metadata": {},
   "outputs": [
    {
     "name": "stdin",
     "output_type": "stream",
     "text": [
      "num =  2\n"
     ]
    },
    {
     "name": "stdout",
     "output_type": "stream",
     "text": [
      "1.2599218605659261\n"
     ]
    }
   ],
   "source": [
    "#第九题\n",
    "import math\n",
    "n = float(input(\"num = \"))\n",
    "y = n\n",
    "def hello(x,num):\n",
    "    error = 1e-5\n",
    "    while (math.fabs(num-(x * x * x)) >= error):\n",
    "        x = (2 * x + num/(x*x))/3.0\n",
    "    return x\n",
    "\n",
    "print(hello(y,n))"
   ]
  },
  {
   "cell_type": "code",
   "execution_count": 10,
   "id": "d5a1b178-5486-494b-bee8-7d73371de5a4",
   "metadata": {},
   "outputs": [
    {
     "name": "stdin",
     "output_type": "stream",
     "text": [
      "x =  5\n"
     ]
    },
    {
     "name": "stdout",
     "output_type": "stream",
     "text": [
      "120\n"
     ]
    }
   ],
   "source": [
    "#第十题\n",
    "def fact(n):\n",
    "    if(n==1):\n",
    "        return 1\n",
    "    if(n>=1):\n",
    "        return n*fact(n-1)\n",
    "x = int(input(\"x = \"))\n",
    "print(fact(x))"
   ]
  },
  {
   "cell_type": "code",
   "execution_count": null,
   "id": "ef19a491-cb52-4375-abfe-7ba926770f36",
   "metadata": {},
   "outputs": [],
   "source": []
  }
 ],
 "metadata": {
  "kernelspec": {
   "display_name": "Python 3 (ipykernel)",
   "language": "python",
   "name": "python3"
  },
  "language_info": {
   "codemirror_mode": {
    "name": "ipython",
    "version": 3
   },
   "file_extension": ".py",
   "mimetype": "text/x-python",
   "name": "python",
   "nbconvert_exporter": "python",
   "pygments_lexer": "ipython3",
   "version": "3.12.4"
  }
 },
 "nbformat": 4,
 "nbformat_minor": 5
}
